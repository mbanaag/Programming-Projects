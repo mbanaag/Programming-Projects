{
 "cells": [
  {
   "cell_type": "code",
   "execution_count": 8,
   "metadata": {},
   "outputs": [],
   "source": [
    "# -*- coding: utf-8 -*-\n",
    "\"\"\"\n",
    "Created on Wed Oct 17 21:20:16 2018\n",
    "\n",
    "@author: Matt\n",
    "\"\"\"\n",
    "import numpy as np\n",
    "import matplotlib.pyplot as plt\n",
    "import time"
   ]
  },
  {
   "cell_type": "markdown",
   "metadata": {},
   "source": [
    "# Given a certain focal length, using the thin lens equation we can say where the object is located and find where the image will result units in term of cm"
   ]
  },
  {
   "cell_type": "code",
   "execution_count": 9,
   "metadata": {},
   "outputs": [],
   "source": [
    "start_time = time.perf_counter()\n",
    "\n",
    "def si(f,xo,xl):\n",
    "    return (f*(xl-xo))/((xl - xo) - f)\n",
    "\n",
    "#Function to set an object in space. Arguments are location in x and height of object\n",
    "def object(x,y):\n",
    "    return plt.plot((x,x),(0,y), 'k')\n",
    "\n",
    "#Function to set a lens in space. Arguments are location in x and height of object\n",
    "def lens(x,y):\n",
    "    return plt.plot((x,x),(0,y*0.5), 'b'), plt.plot((x,x),(0,-y*0.5), 'b')\n",
    "\n",
    "#Functions used to help plot the system\n",
    "def trace(x1,y1,x2,y2):\n",
    "    return plt.plot((x1,x2),(y1,y2),'r')\n",
    "\n",
    "def btrace(x1,y1,x2,y2):\n",
    "    return plt.plot((x1,x2),(y1,y2),'g--')\n",
    "\n",
    "def ptslope(x1,y1,m,x):\n",
    "    return (m*(x - x1)) + y1\n",
    "\n",
    "def xptslope(x1,y1,m,y):\n",
    "    return ((y - y1)/m) + x1\n",
    "\n",
    "def oblq(x1,y1,x2,y2):\n",
    "    return plt.plot((x1,x2),(y1,y2),'r--')"
   ]
  },
  {
   "cell_type": "code",
   "execution_count": 10,
   "metadata": {},
   "outputs": [],
   "source": [
    "#Function used to set the system in place and ray trace\n",
    "def set(xo,yo,xl,yl,f):\n",
    "    if yo > yl/2:\n",
    "        return print(\"Choose a smaller object\")\n",
    "    lens(xl,yl)\n",
    "    object(xo,yo)\n",
    "    xi = si(f,xo,xl)\n",
    "    mag = -abs(xi)/abs(xl - xo)\n",
    "    return trace(xo,yo,xl,yo),trace(xo,yo,xl,0),trace(xo,yo,xl-f,0),trace(xl,yo,xl + f,0),trace(xl + f,0,2*xl,-ptslope(xl + f,0,(yo/f),2*xl)),trace(xl,0,2*xl,-ptslope(xl,0,(yo/abs(xl-xo)),2*xl)),trace(xl - f,0,xl,-ptslope(xl - f,0,(yo/abs((xl - f)-xo)),xl)),trace(xl,-ptslope(xl - f,0,(yo/abs((xl - f)-xo)),xl),2*xl,-ptslope(xl - f,0,(yo/abs((xl - f)-xo)),xl)),object(xl + xi,yo*mag)\n",
    "\n",
    "def backtrace(xim,yi,x2,y2,f1,f2):\n",
    "    lens(x2,y2)\n",
    "    object(xim,yi)\n",
    "    xi = si(f1,xim,x2)\n",
    "    mag = -abs(xi)/abs(x2 - xi)\n",
    "    return btrace(xim,yi,x2+f2,0),btrace(xim,yi,x2,yi),btrace(xim,yi,x2,0),trace(xim,yi,-x2,xptslope(xim,yi,(-yi/(x2-f2)),yi))\n",
    "    \n",
    "\n",
    "def set2(xo,yo,x1,y1,x2,y2,f1,f2):\n",
    "    if yo > y1/2:\n",
    "        return print(\"Choose a smaller object\")\n",
    "    lens(x1,y1)\n",
    "    lens(x2,y2)\n",
    "    object(xo,yo)\n",
    "    xi = si(f1,xo,x1)\n",
    "    mag = -abs(xi)/abs(x1 - xo)\n",
    "    if abs(si(f1,xo,x1)) + x1 < abs(x2) and abs(si(f1,xo,x1)) + x1 < x2 - f2:\n",
    "        return set(xo,yo,x1,y1,f1),set(x1 + xi,yo*mag,x2,y2,f2)\n",
    "    else:\n",
    "        return set(xo,yo,x1,y1,f1),backtrace(x1 + xi,yo*mag,x2,y2,f1,f2)"
   ]
  },
  {
   "cell_type": "markdown",
   "metadata": {},
   "source": [
    "# Note, when setting the height of the lenses, it's half of what you input because half will be above the x-axis and the other half will be below arguments in order:\n",
    "### location of object in space\n",
    "### height of object\n",
    "### location of lenses in space\n",
    "### height of lens\n",
    "### focal length"
   ]
  },
  {
   "cell_type": "code",
   "execution_count": 11,
   "metadata": {},
   "outputs": [
    {
     "data": {
      "image/png": "[encoded data removed]",
      "text/plain": [
       "<Figure size 432x288 with 1 Axes>"
      ]
     },
     "metadata": {
      "needs_background": "light"
     },
     "output_type": "display_data"
    },
    {
     "name": "stdout",
     "output_type": "stream",
     "text": [
      "1.0758006999999452 seconds\n"
     ]
    }
   ],
   "source": [
    "set2(0,1.5,1,4,2,5,.25,.7)\n",
    "\n",
    "plt.grid()\n",
    "plt.xlabel(\"Distance $(m)$\")\n",
    "plt.ylabel(\"Height $(m)$\")\n",
    "plt.show()\n",
    "\n",
    "print(time.perf_counter() - start_time, \"seconds\")"
   ]
  },
  {
   "cell_type": "code",
   "execution_count": null,
   "metadata": {},
   "outputs": [],
   "source": []
  }
 ],
 "metadata": {
  "kernelspec": {
   "display_name": "Python 3",
   "language": "python",
   "name": "python3"
  },
  "language_info": {
   "codemirror_mode": {
    "name": "ipython",
    "version": 3
   },
   "file_extension": ".py",
   "mimetype": "text/x-python",
   "name": "python",
   "nbconvert_exporter": "python",
   "pygments_lexer": "ipython3",
   "version": "3.7.7"
  }
 },
 "nbformat": 4,
 "nbformat_minor": 4
}
